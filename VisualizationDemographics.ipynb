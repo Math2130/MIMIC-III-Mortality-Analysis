{
 "cells": [
  {
   "cell_type": "code",
   "execution_count": 1,
   "id": "initial_id",
   "metadata": {
    "collapsed": true,
    "ExecuteTime": {
     "end_time": "2024-04-06T20:26:14.389294Z",
     "start_time": "2024-04-06T20:26:13.965867Z"
    }
   },
   "outputs": [],
   "source": [
    "import pandas as pd\n",
    "import matplotlib.pyplot as plt\n",
    "import seaborn as sns\n",
    "from scipy.stats import chi2_contingency\n",
    "import numpy as np\n",
    "from sklearn.model_selection import train_test_split\n",
    "from sklearn.linear_model import LogisticRegression\n",
    "from sklearn.metrics import classification_report\n",
    "from sklearn.metrics import accuracy_score\n",
    "from sklearn.metrics import roc_auc_score, roc_curve\n",
    "\n",
    "np.random.seed(0)"
   ]
  },
  {
   "cell_type": "code",
   "outputs": [],
   "source": [
    "# Load the datasets\n",
    "patients_df = pd.read_csv('cleaned_PATIENTS.csv')\n",
    "admissions_df = pd.read_csv('cleaned_ADMISSIONS.csv')"
   ],
   "metadata": {
    "collapsed": false,
    "ExecuteTime": {
     "end_time": "2024-04-06T20:26:16.286775Z",
     "start_time": "2024-04-06T20:26:14.376128Z"
    }
   },
   "id": "bbbe94bd61d53f30",
   "execution_count": 2
  },
  {
   "cell_type": "code",
   "outputs": [
    {
     "data": {
      "text/plain": "   ROW_ID  SUBJECT_ID GENDER         DOB         DOD             DOD_HOSP  \\\n0     234         249      F  2075-03-13         NaN                  NaN   \n1     235         250      F  2164-12-27  2188-11-22  2188-11-22 00:00:00   \n2     236         251      M  2090-03-15         NaN                  NaN   \n3     237         252      M  2078-03-06         NaN                  NaN   \n4     238         253      F  2089-11-26         NaN                  NaN   \n\n  DOD_SSN  EXPIRE_FLAG  \n0     NaN            0  \n1     NaN            1  \n2     NaN            0  \n3     NaN            0  \n4     NaN            0  ",
      "text/html": "<div>\n<style scoped>\n    .dataframe tbody tr th:only-of-type {\n        vertical-align: middle;\n    }\n\n    .dataframe tbody tr th {\n        vertical-align: top;\n    }\n\n    .dataframe thead th {\n        text-align: right;\n    }\n</style>\n<table border=\"1\" class=\"dataframe\">\n  <thead>\n    <tr style=\"text-align: right;\">\n      <th></th>\n      <th>ROW_ID</th>\n      <th>SUBJECT_ID</th>\n      <th>GENDER</th>\n      <th>DOB</th>\n      <th>DOD</th>\n      <th>DOD_HOSP</th>\n      <th>DOD_SSN</th>\n      <th>EXPIRE_FLAG</th>\n    </tr>\n  </thead>\n  <tbody>\n    <tr>\n      <th>0</th>\n      <td>234</td>\n      <td>249</td>\n      <td>F</td>\n      <td>2075-03-13</td>\n      <td>NaN</td>\n      <td>NaN</td>\n      <td>NaN</td>\n      <td>0</td>\n    </tr>\n    <tr>\n      <th>1</th>\n      <td>235</td>\n      <td>250</td>\n      <td>F</td>\n      <td>2164-12-27</td>\n      <td>2188-11-22</td>\n      <td>2188-11-22 00:00:00</td>\n      <td>NaN</td>\n      <td>1</td>\n    </tr>\n    <tr>\n      <th>2</th>\n      <td>236</td>\n      <td>251</td>\n      <td>M</td>\n      <td>2090-03-15</td>\n      <td>NaN</td>\n      <td>NaN</td>\n      <td>NaN</td>\n      <td>0</td>\n    </tr>\n    <tr>\n      <th>3</th>\n      <td>237</td>\n      <td>252</td>\n      <td>M</td>\n      <td>2078-03-06</td>\n      <td>NaN</td>\n      <td>NaN</td>\n      <td>NaN</td>\n      <td>0</td>\n    </tr>\n    <tr>\n      <th>4</th>\n      <td>238</td>\n      <td>253</td>\n      <td>F</td>\n      <td>2089-11-26</td>\n      <td>NaN</td>\n      <td>NaN</td>\n      <td>NaN</td>\n      <td>0</td>\n    </tr>\n  </tbody>\n</table>\n</div>"
     },
     "execution_count": 3,
     "metadata": {},
     "output_type": "execute_result"
    }
   ],
   "source": [
    "patients_df.head()"
   ],
   "metadata": {
    "collapsed": false,
    "ExecuteTime": {
     "end_time": "2024-04-06T20:26:16.305293Z",
     "start_time": "2024-04-06T20:26:16.290664Z"
    }
   },
   "id": "2eed67e240c0e6ee",
   "execution_count": 3
  },
  {
   "cell_type": "code",
   "outputs": [
    {
     "data": {
      "text/plain": "   ROW_ID  SUBJECT_ID  HADM_ID            ADMITTIME            DISCHTIME  \\\n0      21          22   165315  2196-04-09 12:26:00  2196-04-10 15:54:00   \n1      22          23   152223  2153-09-03 07:15:00  2153-09-08 19:10:00   \n2      23          23   124321  2157-10-18 19:34:00  2157-10-25 14:00:00   \n3      24          24   161859  2139-06-06 16:14:00  2139-06-09 12:48:00   \n4      25          25   129635  2160-11-02 02:06:00  2160-11-05 14:55:00   \n\n  DEATHTIME         ADMISSION_LOCATION         DISCHARGE_LOCATION  \\\n0       NaN       EMERGENCY ROOM ADMIT  DISC-TRAN CANCER/CHLDRN H   \n1       NaN  PHYS REFERRAL/NORMAL DELI           HOME HEALTH CARE   \n2       NaN  TRANSFER FROM HOSP/EXTRAM           HOME HEALTH CARE   \n3       NaN  TRANSFER FROM HOSP/EXTRAM                       HOME   \n4       NaN       EMERGENCY ROOM ADMIT                       HOME   \n\n             EDREGTIME            EDOUTTIME  ...  \\\n0  2196-04-09 10:06:00  2196-04-09 13:24:00  ...   \n1                  NaN                  NaN  ...   \n2                  NaN                  NaN  ...   \n3                  NaN                  NaN  ...   \n4  2160-11-02 01:01:00  2160-11-02 04:27:00  ...   \n\n  ETHNICITY_PATIENT DECLINED TO ANSWER  ETHNICITY_PORTUGUESE  \\\n0                                False                 False   \n1                                False                 False   \n2                                False                 False   \n3                                False                 False   \n4                                False                 False   \n\n   ETHNICITY_SOUTH AMERICAN ETHNICITY_UNABLE TO OBTAIN  \\\n0                     False                      False   \n1                     False                      False   \n2                     False                      False   \n3                     False                      False   \n4                     False                      False   \n\n   ETHNICITY_UNKNOWN/NOT SPECIFIED  ETHNICITY_WHITE  \\\n0                            False             True   \n1                            False             True   \n2                            False             True   \n3                            False             True   \n4                            False             True   \n\n   ETHNICITY_WHITE - BRAZILIAN  ETHNICITY_WHITE - EASTERN EUROPEAN  \\\n0                        False                               False   \n1                        False                               False   \n2                        False                               False   \n3                        False                               False   \n4                        False                               False   \n\n   ETHNICITY_WHITE - OTHER EUROPEAN  ETHNICITY_WHITE - RUSSIAN  \n0                             False                      False  \n1                             False                      False  \n2                             False                      False  \n3                             False                      False  \n4                             False                      False  \n\n[5 rows x 162 columns]",
      "text/html": "<div>\n<style scoped>\n    .dataframe tbody tr th:only-of-type {\n        vertical-align: middle;\n    }\n\n    .dataframe tbody tr th {\n        vertical-align: top;\n    }\n\n    .dataframe thead th {\n        text-align: right;\n    }\n</style>\n<table border=\"1\" class=\"dataframe\">\n  <thead>\n    <tr style=\"text-align: right;\">\n      <th></th>\n      <th>ROW_ID</th>\n      <th>SUBJECT_ID</th>\n      <th>HADM_ID</th>\n      <th>ADMITTIME</th>\n      <th>DISCHTIME</th>\n      <th>DEATHTIME</th>\n      <th>ADMISSION_LOCATION</th>\n      <th>DISCHARGE_LOCATION</th>\n      <th>EDREGTIME</th>\n      <th>EDOUTTIME</th>\n      <th>...</th>\n      <th>ETHNICITY_PATIENT DECLINED TO ANSWER</th>\n      <th>ETHNICITY_PORTUGUESE</th>\n      <th>ETHNICITY_SOUTH AMERICAN</th>\n      <th>ETHNICITY_UNABLE TO OBTAIN</th>\n      <th>ETHNICITY_UNKNOWN/NOT SPECIFIED</th>\n      <th>ETHNICITY_WHITE</th>\n      <th>ETHNICITY_WHITE - BRAZILIAN</th>\n      <th>ETHNICITY_WHITE - EASTERN EUROPEAN</th>\n      <th>ETHNICITY_WHITE - OTHER EUROPEAN</th>\n      <th>ETHNICITY_WHITE - RUSSIAN</th>\n    </tr>\n  </thead>\n  <tbody>\n    <tr>\n      <th>0</th>\n      <td>21</td>\n      <td>22</td>\n      <td>165315</td>\n      <td>2196-04-09 12:26:00</td>\n      <td>2196-04-10 15:54:00</td>\n      <td>NaN</td>\n      <td>EMERGENCY ROOM ADMIT</td>\n      <td>DISC-TRAN CANCER/CHLDRN H</td>\n      <td>2196-04-09 10:06:00</td>\n      <td>2196-04-09 13:24:00</td>\n      <td>...</td>\n      <td>False</td>\n      <td>False</td>\n      <td>False</td>\n      <td>False</td>\n      <td>False</td>\n      <td>True</td>\n      <td>False</td>\n      <td>False</td>\n      <td>False</td>\n      <td>False</td>\n    </tr>\n    <tr>\n      <th>1</th>\n      <td>22</td>\n      <td>23</td>\n      <td>152223</td>\n      <td>2153-09-03 07:15:00</td>\n      <td>2153-09-08 19:10:00</td>\n      <td>NaN</td>\n      <td>PHYS REFERRAL/NORMAL DELI</td>\n      <td>HOME HEALTH CARE</td>\n      <td>NaN</td>\n      <td>NaN</td>\n      <td>...</td>\n      <td>False</td>\n      <td>False</td>\n      <td>False</td>\n      <td>False</td>\n      <td>False</td>\n      <td>True</td>\n      <td>False</td>\n      <td>False</td>\n      <td>False</td>\n      <td>False</td>\n    </tr>\n    <tr>\n      <th>2</th>\n      <td>23</td>\n      <td>23</td>\n      <td>124321</td>\n      <td>2157-10-18 19:34:00</td>\n      <td>2157-10-25 14:00:00</td>\n      <td>NaN</td>\n      <td>TRANSFER FROM HOSP/EXTRAM</td>\n      <td>HOME HEALTH CARE</td>\n      <td>NaN</td>\n      <td>NaN</td>\n      <td>...</td>\n      <td>False</td>\n      <td>False</td>\n      <td>False</td>\n      <td>False</td>\n      <td>False</td>\n      <td>True</td>\n      <td>False</td>\n      <td>False</td>\n      <td>False</td>\n      <td>False</td>\n    </tr>\n    <tr>\n      <th>3</th>\n      <td>24</td>\n      <td>24</td>\n      <td>161859</td>\n      <td>2139-06-06 16:14:00</td>\n      <td>2139-06-09 12:48:00</td>\n      <td>NaN</td>\n      <td>TRANSFER FROM HOSP/EXTRAM</td>\n      <td>HOME</td>\n      <td>NaN</td>\n      <td>NaN</td>\n      <td>...</td>\n      <td>False</td>\n      <td>False</td>\n      <td>False</td>\n      <td>False</td>\n      <td>False</td>\n      <td>True</td>\n      <td>False</td>\n      <td>False</td>\n      <td>False</td>\n      <td>False</td>\n    </tr>\n    <tr>\n      <th>4</th>\n      <td>25</td>\n      <td>25</td>\n      <td>129635</td>\n      <td>2160-11-02 02:06:00</td>\n      <td>2160-11-05 14:55:00</td>\n      <td>NaN</td>\n      <td>EMERGENCY ROOM ADMIT</td>\n      <td>HOME</td>\n      <td>2160-11-02 01:01:00</td>\n      <td>2160-11-02 04:27:00</td>\n      <td>...</td>\n      <td>False</td>\n      <td>False</td>\n      <td>False</td>\n      <td>False</td>\n      <td>False</td>\n      <td>True</td>\n      <td>False</td>\n      <td>False</td>\n      <td>False</td>\n      <td>False</td>\n    </tr>\n  </tbody>\n</table>\n<p>5 rows × 162 columns</p>\n</div>"
     },
     "execution_count": 4,
     "metadata": {},
     "output_type": "execute_result"
    }
   ],
   "source": [
    "admissions_df.head()"
   ],
   "metadata": {
    "collapsed": false,
    "ExecuteTime": {
     "end_time": "2024-04-06T20:26:16.364387Z",
     "start_time": "2024-04-06T20:26:16.319975Z"
    }
   },
   "id": "15c7fa667bf28e9c",
   "execution_count": 4
  },
  {
   "cell_type": "markdown",
   "source": [
    "# Merge + Clean data"
   ],
   "metadata": {
    "collapsed": false
   },
   "id": "55a7c9ef7972e401"
  },
  {
   "cell_type": "code",
   "outputs": [],
   "source": [
    "# Pick either HOSPITAL_EXPIRE_FLAG or EXPIRE_FLAG\n",
    "death_variable = \"EXPIRE_FLAG\""
   ],
   "metadata": {
    "collapsed": false,
    "ExecuteTime": {
     "end_time": "2024-04-06T20:26:16.365641Z",
     "start_time": "2024-04-06T20:26:16.326142Z"
    }
   },
   "id": "f9cf74fe9f852c41",
   "execution_count": 5
  },
  {
   "cell_type": "code",
   "outputs": [
    {
     "data": {
      "text/plain": "   SUBJECT_ID  EXPIRE_FLAG  ROW_ID  HADM_ID            ADMITTIME  \\\n0         249            0     321   116935  2149-12-17 20:41:00   \n1         250            1     324   124271  2188-11-12 09:22:00   \n2         251            0     325   117937  2110-07-27 06:46:00   \n3         252            0     326   190159  2133-03-31 04:24:00   \n4         253            0     328   176189  2174-01-21 20:58:00   \n\n             DISCHTIME            DEATHTIME         ADMISSION_LOCATION  \\\n0  2149-12-31 14:55:00                  NaN       EMERGENCY ROOM ADMIT   \n1  2188-11-22 12:00:00  2188-11-22 12:00:00       EMERGENCY ROOM ADMIT   \n2  2110-07-29 15:23:00                  NaN       EMERGENCY ROOM ADMIT   \n3  2133-04-23 15:00:00                  NaN       EMERGENCY ROOM ADMIT   \n4  2174-01-26 16:15:00                  NaN  TRANSFER FROM HOSP/EXTRAM   \n\n         DISCHARGE_LOCATION            EDREGTIME  ...  \\\n0                       SNF  2149-12-17 11:10:00  ...   \n1              DEAD/EXPIRED  2188-11-12 06:56:00  ...   \n2                      HOME  2110-07-27 05:00:00  ...   \n3  REHAB/DISTINCT PART HOSP  2133-03-31 03:58:00  ...   \n4                       SNF                  NaN  ...   \n\n  ETHNICITY_PATIENT DECLINED TO ANSWER ETHNICITY_PORTUGUESE  \\\n0                                False                False   \n1                                False                False   \n2                                False                False   \n3                                False                False   \n4                                False                False   \n\n   ETHNICITY_SOUTH AMERICAN  ETHNICITY_UNABLE TO OBTAIN  \\\n0                     False                       False   \n1                     False                       False   \n2                     False                       False   \n3                     False                       False   \n4                     False                       False   \n\n  ETHNICITY_UNKNOWN/NOT SPECIFIED  ETHNICITY_WHITE  \\\n0                           False             True   \n1                           False            False   \n2                            True            False   \n3                           False             True   \n4                           False             True   \n\n   ETHNICITY_WHITE - BRAZILIAN  ETHNICITY_WHITE - EASTERN EUROPEAN  \\\n0                        False                               False   \n1                        False                               False   \n2                        False                               False   \n3                        False                               False   \n4                        False                               False   \n\n   ETHNICITY_WHITE - OTHER EUROPEAN  ETHNICITY_WHITE - RUSSIAN  \n0                             False                      False  \n1                             False                      False  \n2                             False                      False  \n3                             False                      False  \n4                             False                      False  \n\n[5 rows x 163 columns]",
      "text/html": "<div>\n<style scoped>\n    .dataframe tbody tr th:only-of-type {\n        vertical-align: middle;\n    }\n\n    .dataframe tbody tr th {\n        vertical-align: top;\n    }\n\n    .dataframe thead th {\n        text-align: right;\n    }\n</style>\n<table border=\"1\" class=\"dataframe\">\n  <thead>\n    <tr style=\"text-align: right;\">\n      <th></th>\n      <th>SUBJECT_ID</th>\n      <th>EXPIRE_FLAG</th>\n      <th>ROW_ID</th>\n      <th>HADM_ID</th>\n      <th>ADMITTIME</th>\n      <th>DISCHTIME</th>\n      <th>DEATHTIME</th>\n      <th>ADMISSION_LOCATION</th>\n      <th>DISCHARGE_LOCATION</th>\n      <th>EDREGTIME</th>\n      <th>...</th>\n      <th>ETHNICITY_PATIENT DECLINED TO ANSWER</th>\n      <th>ETHNICITY_PORTUGUESE</th>\n      <th>ETHNICITY_SOUTH AMERICAN</th>\n      <th>ETHNICITY_UNABLE TO OBTAIN</th>\n      <th>ETHNICITY_UNKNOWN/NOT SPECIFIED</th>\n      <th>ETHNICITY_WHITE</th>\n      <th>ETHNICITY_WHITE - BRAZILIAN</th>\n      <th>ETHNICITY_WHITE - EASTERN EUROPEAN</th>\n      <th>ETHNICITY_WHITE - OTHER EUROPEAN</th>\n      <th>ETHNICITY_WHITE - RUSSIAN</th>\n    </tr>\n  </thead>\n  <tbody>\n    <tr>\n      <th>0</th>\n      <td>249</td>\n      <td>0</td>\n      <td>321</td>\n      <td>116935</td>\n      <td>2149-12-17 20:41:00</td>\n      <td>2149-12-31 14:55:00</td>\n      <td>NaN</td>\n      <td>EMERGENCY ROOM ADMIT</td>\n      <td>SNF</td>\n      <td>2149-12-17 11:10:00</td>\n      <td>...</td>\n      <td>False</td>\n      <td>False</td>\n      <td>False</td>\n      <td>False</td>\n      <td>False</td>\n      <td>True</td>\n      <td>False</td>\n      <td>False</td>\n      <td>False</td>\n      <td>False</td>\n    </tr>\n    <tr>\n      <th>1</th>\n      <td>250</td>\n      <td>1</td>\n      <td>324</td>\n      <td>124271</td>\n      <td>2188-11-12 09:22:00</td>\n      <td>2188-11-22 12:00:00</td>\n      <td>2188-11-22 12:00:00</td>\n      <td>EMERGENCY ROOM ADMIT</td>\n      <td>DEAD/EXPIRED</td>\n      <td>2188-11-12 06:56:00</td>\n      <td>...</td>\n      <td>False</td>\n      <td>False</td>\n      <td>False</td>\n      <td>False</td>\n      <td>False</td>\n      <td>False</td>\n      <td>False</td>\n      <td>False</td>\n      <td>False</td>\n      <td>False</td>\n    </tr>\n    <tr>\n      <th>2</th>\n      <td>251</td>\n      <td>0</td>\n      <td>325</td>\n      <td>117937</td>\n      <td>2110-07-27 06:46:00</td>\n      <td>2110-07-29 15:23:00</td>\n      <td>NaN</td>\n      <td>EMERGENCY ROOM ADMIT</td>\n      <td>HOME</td>\n      <td>2110-07-27 05:00:00</td>\n      <td>...</td>\n      <td>False</td>\n      <td>False</td>\n      <td>False</td>\n      <td>False</td>\n      <td>True</td>\n      <td>False</td>\n      <td>False</td>\n      <td>False</td>\n      <td>False</td>\n      <td>False</td>\n    </tr>\n    <tr>\n      <th>3</th>\n      <td>252</td>\n      <td>0</td>\n      <td>326</td>\n      <td>190159</td>\n      <td>2133-03-31 04:24:00</td>\n      <td>2133-04-23 15:00:00</td>\n      <td>NaN</td>\n      <td>EMERGENCY ROOM ADMIT</td>\n      <td>REHAB/DISTINCT PART HOSP</td>\n      <td>2133-03-31 03:58:00</td>\n      <td>...</td>\n      <td>False</td>\n      <td>False</td>\n      <td>False</td>\n      <td>False</td>\n      <td>False</td>\n      <td>True</td>\n      <td>False</td>\n      <td>False</td>\n      <td>False</td>\n      <td>False</td>\n    </tr>\n    <tr>\n      <th>4</th>\n      <td>253</td>\n      <td>0</td>\n      <td>328</td>\n      <td>176189</td>\n      <td>2174-01-21 20:58:00</td>\n      <td>2174-01-26 16:15:00</td>\n      <td>NaN</td>\n      <td>TRANSFER FROM HOSP/EXTRAM</td>\n      <td>SNF</td>\n      <td>NaN</td>\n      <td>...</td>\n      <td>False</td>\n      <td>False</td>\n      <td>False</td>\n      <td>False</td>\n      <td>False</td>\n      <td>True</td>\n      <td>False</td>\n      <td>False</td>\n      <td>False</td>\n      <td>False</td>\n    </tr>\n  </tbody>\n</table>\n<p>5 rows × 163 columns</p>\n</div>"
     },
     "execution_count": 6,
     "metadata": {},
     "output_type": "execute_result"
    }
   ],
   "source": [
    "# For merging, select only the first occurrence since the aim is to avoid multiple entries but keep one-hot encoding\n",
    "first_admissions_entry = admissions_df.groupby('SUBJECT_ID').head(1)\n",
    "\n",
    "# Merging the first entry of admissions data with the patients data\n",
    "\n",
    "# USE THIS FOR EXPIRE_FLAG\n",
    "merged_df = pd.merge(patients_df[['SUBJECT_ID', death_variable]], first_admissions_entry, on='SUBJECT_ID')\n",
    "\n",
    "# USE THIS FOR HOSPITAL_EXPIRE_FLAG\n",
    "# merged_df = pd.merge(patients_df[['SUBJECT_ID']], first_admissions_entry, on='SUBJECT_ID')\n",
    "\n",
    "merged_df.head()"
   ],
   "metadata": {
    "collapsed": false,
    "ExecuteTime": {
     "end_time": "2024-04-06T20:26:16.506264Z",
     "start_time": "2024-04-06T20:26:16.335365Z"
    }
   },
   "id": "f8ec6026fdc6984",
   "execution_count": 6
  },
  {
   "cell_type": "markdown",
   "source": [
    "### Check for the number of patients that do not have a consistent demographic values (ethnicity, language, religion) across each hospital admission"
   ],
   "metadata": {
    "collapsed": false
   },
   "id": "a4ccbe29d6b7c577"
  },
  {
   "cell_type": "code",
   "outputs": [
    {
     "data": {
      "text/plain": "{'Ethnicity Changes': 7371, 'Religion Changes': 7426, 'Language Changes': 4898}"
     },
     "execution_count": 7,
     "metadata": {},
     "output_type": "execute_result"
    }
   ],
   "source": [
    "# Identifying one-hot encoded columns for each category\n",
    "ethnicity_cols = [col for col in admissions_df.columns if col.startswith('ETHNICITY_')]\n",
    "religion_cols = [col for col in admissions_df.columns if col.startswith('RELIGION_')]\n",
    "language_cols = [col for col in admissions_df.columns if col.startswith('LANGUAGE_')]\n",
    "\n",
    "# To check for changes in one-hot encoded columns, we sum across rows for each category in the original admissions_df_new\n",
    "# This will give a count of how many times each category was marked for each patient\n",
    "sum_ethnicity = admissions_df.groupby('SUBJECT_ID')[ethnicity_cols].sum()\n",
    "sum_religion = admissions_df.groupby('SUBJECT_ID')[religion_cols].sum()\n",
    "sum_language = admissions_df.groupby('SUBJECT_ID')[language_cols].sum()\n",
    "\n",
    "# A patient has changed their info if the sum in any category column is > 1\n",
    "changes_ethnicity = sum_ethnicity[sum_ethnicity > 1].dropna(how='all')\n",
    "changes_religion = sum_religion[sum_religion > 1].dropna(how='all')\n",
    "changes_language = sum_language[sum_language > 1].dropna(how='all')\n",
    "\n",
    "# Number of patients with changes\n",
    "num_changes = {\n",
    "    'Ethnicity Changes': changes_ethnicity.shape[0],\n",
    "    'Religion Changes': changes_religion.shape[0],\n",
    "    'Language Changes': changes_language.shape[0]\n",
    "}\n",
    "\n",
    "num_changes"
   ],
   "metadata": {
    "collapsed": false,
    "ExecuteTime": {
     "end_time": "2024-04-06T20:26:17.015Z",
     "start_time": "2024-04-06T20:26:16.575420Z"
    }
   },
   "id": "e786ebc96ef964af",
   "execution_count": 7
  },
  {
   "cell_type": "markdown",
   "source": [
    "### Drop those patients that have inconsistent demographic values"
   ],
   "metadata": {
    "collapsed": false
   },
   "id": "25c83e96ed8165c0"
  },
  {
   "cell_type": "code",
   "outputs": [
    {
     "data": {
      "text/plain": "   SUBJECT_ID  EXPIRE_FLAG  ROW_ID  HADM_ID            ADMITTIME  \\\n1         250            1     324   124271  2188-11-12 09:22:00   \n2         251            0     325   117937  2110-07-27 06:46:00   \n4         253            0     328   176189  2174-01-21 20:58:00   \n5         255            0     329   112013  2187-02-12 10:30:00   \n7         257            1     334   179006  2112-12-20 20:45:00   \n\n             DISCHTIME            DEATHTIME         ADMISSION_LOCATION  \\\n1  2188-11-22 12:00:00  2188-11-22 12:00:00       EMERGENCY ROOM ADMIT   \n2  2110-07-29 15:23:00                  NaN       EMERGENCY ROOM ADMIT   \n4  2174-01-26 16:15:00                  NaN  TRANSFER FROM HOSP/EXTRAM   \n5  2187-02-15 10:30:00                  NaN  PHYS REFERRAL/NORMAL DELI   \n7  2112-12-23 17:00:00                  NaN       EMERGENCY ROOM ADMIT   \n\n  DISCHARGE_LOCATION            EDREGTIME  ...  \\\n1       DEAD/EXPIRED  2188-11-12 06:56:00  ...   \n2               HOME  2110-07-27 05:00:00  ...   \n4                SNF                  NaN  ...   \n5               HOME                  NaN  ...   \n7   HOME HEALTH CARE  2112-12-20 14:35:00  ...   \n\n  ETHNICITY_PATIENT DECLINED TO ANSWER ETHNICITY_PORTUGUESE  \\\n1                                False                False   \n2                                False                False   \n4                                False                False   \n5                                False                False   \n7                                False                False   \n\n   ETHNICITY_SOUTH AMERICAN  ETHNICITY_UNABLE TO OBTAIN  \\\n1                     False                       False   \n2                     False                       False   \n4                     False                       False   \n5                     False                       False   \n7                     False                       False   \n\n  ETHNICITY_UNKNOWN/NOT SPECIFIED  ETHNICITY_WHITE  \\\n1                           False            False   \n2                            True            False   \n4                           False             True   \n5                           False             True   \n7                           False             True   \n\n   ETHNICITY_WHITE - BRAZILIAN  ETHNICITY_WHITE - EASTERN EUROPEAN  \\\n1                        False                               False   \n2                        False                               False   \n4                        False                               False   \n5                        False                               False   \n7                        False                               False   \n\n   ETHNICITY_WHITE - OTHER EUROPEAN  ETHNICITY_WHITE - RUSSIAN  \n1                             False                      False  \n2                             False                      False  \n4                             False                      False  \n5                             False                      False  \n7                             False                      False  \n\n[5 rows x 163 columns]",
      "text/html": "<div>\n<style scoped>\n    .dataframe tbody tr th:only-of-type {\n        vertical-align: middle;\n    }\n\n    .dataframe tbody tr th {\n        vertical-align: top;\n    }\n\n    .dataframe thead th {\n        text-align: right;\n    }\n</style>\n<table border=\"1\" class=\"dataframe\">\n  <thead>\n    <tr style=\"text-align: right;\">\n      <th></th>\n      <th>SUBJECT_ID</th>\n      <th>EXPIRE_FLAG</th>\n      <th>ROW_ID</th>\n      <th>HADM_ID</th>\n      <th>ADMITTIME</th>\n      <th>DISCHTIME</th>\n      <th>DEATHTIME</th>\n      <th>ADMISSION_LOCATION</th>\n      <th>DISCHARGE_LOCATION</th>\n      <th>EDREGTIME</th>\n      <th>...</th>\n      <th>ETHNICITY_PATIENT DECLINED TO ANSWER</th>\n      <th>ETHNICITY_PORTUGUESE</th>\n      <th>ETHNICITY_SOUTH AMERICAN</th>\n      <th>ETHNICITY_UNABLE TO OBTAIN</th>\n      <th>ETHNICITY_UNKNOWN/NOT SPECIFIED</th>\n      <th>ETHNICITY_WHITE</th>\n      <th>ETHNICITY_WHITE - BRAZILIAN</th>\n      <th>ETHNICITY_WHITE - EASTERN EUROPEAN</th>\n      <th>ETHNICITY_WHITE - OTHER EUROPEAN</th>\n      <th>ETHNICITY_WHITE - RUSSIAN</th>\n    </tr>\n  </thead>\n  <tbody>\n    <tr>\n      <th>1</th>\n      <td>250</td>\n      <td>1</td>\n      <td>324</td>\n      <td>124271</td>\n      <td>2188-11-12 09:22:00</td>\n      <td>2188-11-22 12:00:00</td>\n      <td>2188-11-22 12:00:00</td>\n      <td>EMERGENCY ROOM ADMIT</td>\n      <td>DEAD/EXPIRED</td>\n      <td>2188-11-12 06:56:00</td>\n      <td>...</td>\n      <td>False</td>\n      <td>False</td>\n      <td>False</td>\n      <td>False</td>\n      <td>False</td>\n      <td>False</td>\n      <td>False</td>\n      <td>False</td>\n      <td>False</td>\n      <td>False</td>\n    </tr>\n    <tr>\n      <th>2</th>\n      <td>251</td>\n      <td>0</td>\n      <td>325</td>\n      <td>117937</td>\n      <td>2110-07-27 06:46:00</td>\n      <td>2110-07-29 15:23:00</td>\n      <td>NaN</td>\n      <td>EMERGENCY ROOM ADMIT</td>\n      <td>HOME</td>\n      <td>2110-07-27 05:00:00</td>\n      <td>...</td>\n      <td>False</td>\n      <td>False</td>\n      <td>False</td>\n      <td>False</td>\n      <td>True</td>\n      <td>False</td>\n      <td>False</td>\n      <td>False</td>\n      <td>False</td>\n      <td>False</td>\n    </tr>\n    <tr>\n      <th>4</th>\n      <td>253</td>\n      <td>0</td>\n      <td>328</td>\n      <td>176189</td>\n      <td>2174-01-21 20:58:00</td>\n      <td>2174-01-26 16:15:00</td>\n      <td>NaN</td>\n      <td>TRANSFER FROM HOSP/EXTRAM</td>\n      <td>SNF</td>\n      <td>NaN</td>\n      <td>...</td>\n      <td>False</td>\n      <td>False</td>\n      <td>False</td>\n      <td>False</td>\n      <td>False</td>\n      <td>True</td>\n      <td>False</td>\n      <td>False</td>\n      <td>False</td>\n      <td>False</td>\n    </tr>\n    <tr>\n      <th>5</th>\n      <td>255</td>\n      <td>0</td>\n      <td>329</td>\n      <td>112013</td>\n      <td>2187-02-12 10:30:00</td>\n      <td>2187-02-15 10:30:00</td>\n      <td>NaN</td>\n      <td>PHYS REFERRAL/NORMAL DELI</td>\n      <td>HOME</td>\n      <td>NaN</td>\n      <td>...</td>\n      <td>False</td>\n      <td>False</td>\n      <td>False</td>\n      <td>False</td>\n      <td>False</td>\n      <td>True</td>\n      <td>False</td>\n      <td>False</td>\n      <td>False</td>\n      <td>False</td>\n    </tr>\n    <tr>\n      <th>7</th>\n      <td>257</td>\n      <td>1</td>\n      <td>334</td>\n      <td>179006</td>\n      <td>2112-12-20 20:45:00</td>\n      <td>2112-12-23 17:00:00</td>\n      <td>NaN</td>\n      <td>EMERGENCY ROOM ADMIT</td>\n      <td>HOME HEALTH CARE</td>\n      <td>2112-12-20 14:35:00</td>\n      <td>...</td>\n      <td>False</td>\n      <td>False</td>\n      <td>False</td>\n      <td>False</td>\n      <td>False</td>\n      <td>True</td>\n      <td>False</td>\n      <td>False</td>\n      <td>False</td>\n      <td>False</td>\n    </tr>\n  </tbody>\n</table>\n<p>5 rows × 163 columns</p>\n</div>"
     },
     "execution_count": 8,
     "metadata": {},
     "output_type": "execute_result"
    }
   ],
   "source": [
    "# Create a boolean mask of patients who haven't changed any categorical variable\n",
    "no_changes_mask = ~merged_df['SUBJECT_ID'].isin(\n",
    "    changes_ethnicity.index.union(changes_religion.index).union(changes_language.index)\n",
    ")\n",
    "\n",
    "# Create a new dataframe with only the patients who haven't changed their categorical variables\n",
    "merged_df = merged_df[no_changes_mask]\n",
    "merged_df.head()"
   ],
   "metadata": {
    "collapsed": false,
    "ExecuteTime": {
     "end_time": "2024-04-06T20:26:21.640937Z",
     "start_time": "2024-04-06T20:26:21.562316Z"
    }
   },
   "id": "c9dc5f5e4f4593ca",
   "execution_count": 8
  },
  {
   "cell_type": "code",
   "outputs": [
    {
     "data": {
      "text/plain": "(38999, 163)"
     },
     "execution_count": 9,
     "metadata": {},
     "output_type": "execute_result"
    }
   ],
   "source": [
    "# merged df now only has patients that did not change their categorical variables within multiple admissions to the hospital. \n",
    "merged_df.shape"
   ],
   "metadata": {
    "collapsed": false,
    "ExecuteTime": {
     "end_time": "2024-04-06T20:26:22.529708Z",
     "start_time": "2024-04-06T20:26:22.525115Z"
    }
   },
   "id": "bd5f0410a01dd70a",
   "execution_count": 9
  },
  {
   "cell_type": "code",
   "outputs": [],
   "source": [
    "merged_df.isna().sum()"
   ],
   "metadata": {
    "collapsed": false,
    "is_executing": true
   },
   "id": "626c2ca2aacc439c",
   "execution_count": null
  },
  {
   "cell_type": "code",
   "outputs": [],
   "source": [
    "ethnicity_columns = [col for col in merged_df.columns if 'ETHNICITY_' in col]\n",
    "religion_columns = [col for col in merged_df.columns if 'RELIGION_' in col]\n",
    "language_columns = [col for col in merged_df.columns if 'LANGUAGE_' in col]"
   ],
   "metadata": {
    "collapsed": false,
    "is_executing": true
   },
   "id": "b2d23654c2eaf591",
   "execution_count": null
  },
  {
   "cell_type": "markdown",
   "source": [
    "## Bar graph for counting total patients and deaths in each demographic category "
   ],
   "metadata": {
    "collapsed": false
   },
   "id": "297ef9b158f70ba9"
  },
  {
   "cell_type": "code",
   "outputs": [],
   "source": [
    "def plot_demographic_distribution_with_expiry(columns, title, font_size):\n",
    "    # Calculating total counts for each demographic category\n",
    "    total_demographic_counts = merged_df[columns].sum().sort_values(ascending=False)\n",
    "    \n",
    "    # Calculating counts of expired for each demographic category\n",
    "    expired_demographic_counts = merged_df[merged_df[death_variable] == 1][columns].sum().sort_values(ascending=False)\n",
    "\n",
    "    # Ensure the order of 'expired' counts matches the 'total' counts\n",
    "    expired_demographic_counts = expired_demographic_counts.reindex(total_demographic_counts.index)\n",
    "    \n",
    "    # Plot\n",
    "    plt.figure(figsize=(10, 10))\n",
    "    # Plotting total counts\n",
    "    sns.barplot(x=total_demographic_counts.values, y=total_demographic_counts.index, color=\"blue\", label=\"Total\")\n",
    "    # Plotting expired counts on top of total counts\n",
    "    sns.barplot(x=expired_demographic_counts.values, y=expired_demographic_counts.index, color=\"red\", label=\"Expired\")\n",
    "    \n",
    "    plt.title(title)\n",
    "    plt.xlabel('Count')\n",
    "    plt.yticks(fontsize=font_size) \n",
    "    plt.ylabel('Category')\n",
    "    plt.legend()\n",
    "    plt.show()\n",
    "\n",
    "plot_demographic_distribution_with_expiry(ethnicity_columns, 'Ethnicity Distribution', 9)\n",
    "plot_demographic_distribution_with_expiry(religion_columns, 'Religion Distribution', 10)\n",
    "plot_demographic_distribution_with_expiry(language_columns, 'Language Distribution', 7)"
   ],
   "metadata": {
    "collapsed": false,
    "is_executing": true
   },
   "id": "643394a922dc7ff3",
   "execution_count": null
  },
  {
   "cell_type": "markdown",
   "source": [
    "### Similar to above bar graph but now x-axis is log scale"
   ],
   "metadata": {
    "collapsed": false
   },
   "id": "c67f69e98fa6b5f6"
  },
  {
   "cell_type": "code",
   "outputs": [],
   "source": [
    "def plot_demographic_distribution_with_expiry(columns, title, font_size):\n",
    "    # Calculating total counts for each demographic category\n",
    "    total_demographic_counts = merged_df[columns].sum().sort_values(ascending=False)\n",
    "    \n",
    "    # Calculating counts of expired for each demographic category\n",
    "    expired_demographic_counts = merged_df[merged_df[death_variable] == 1][columns].sum().sort_values(ascending=False)\n",
    "\n",
    "    # Ensure the order of 'expired' counts matches the 'total' counts\n",
    "    expired_demographic_counts = expired_demographic_counts.reindex(total_demographic_counts.index)\n",
    "    \n",
    "    # Adjusting for zero or negative values that can't be plotted on a log scale\n",
    "    total_demographic_counts = total_demographic_counts.replace(0, np.nan)\n",
    "    expired_demographic_counts = expired_demographic_counts.replace(0, np.nan)\n",
    "    \n",
    "    # Plot\n",
    "    plt.figure(figsize=(10, 10))\n",
    "    ax = plt.subplot(1, 1, 1)\n",
    "    \n",
    "    # Plotting total counts\n",
    "    sns.barplot(x=total_demographic_counts.values, y=total_demographic_counts.index, color=\"blue\", label=\"Total\")\n",
    "    # Plotting expired counts on top of total counts\n",
    "    sns.barplot(x=expired_demographic_counts.values, y=expired_demographic_counts.index, color=\"red\", label=\"Expired\")\n",
    "    \n",
    "    plt.title(title)\n",
    "    plt.xlabel('Count')\n",
    "    plt.yticks(fontsize=font_size)\n",
    "    plt.ylabel('Category')\n",
    "    plt.legend()\n",
    "    \n",
    "    # Set the x-axis to a log scale\n",
    "    ax.set_xscale('log')\n",
    "    \n",
    "    # Handling tick marks for log scale with possible NaN or inf values\n",
    "    valid_values = total_demographic_counts.dropna().values\n",
    "    if len(valid_values) > 0:\n",
    "        min_val = np.min(valid_values[valid_values > 0])\n",
    "        max_val = np.max(valid_values)\n",
    "        tick_values = np.logspace(np.log10(min_val), np.log10(max_val), num=10)\n",
    "        ax.set_xticks(tick_values)\n",
    "        ax.get_xaxis().set_major_formatter(plt.ScalarFormatter())\n",
    "    \n",
    "    plt.show()\n",
    "\n",
    "\n",
    "plot_demographic_distribution_with_expiry(ethnicity_columns, 'Ethnicity Distribution', 9)\n",
    "plot_demographic_distribution_with_expiry(religion_columns, 'Religion Distribution', 10)\n",
    "plot_demographic_distribution_with_expiry(language_columns, 'Language Distribution', 7)"
   ],
   "metadata": {
    "collapsed": false,
    "is_executing": true
   },
   "id": "828f8792a9af600c",
   "execution_count": null
  },
  {
   "cell_type": "markdown",
   "source": [
    "Please note that some population of a categorical group all expired. This means all Beth Israel Deaconess Medical Center patients that has that specific demographic value has passed away.\n",
    "Following graph will be about mortality rate which is number of deaths of a specific population / total specific population. There can be some graphs that have 100%. "
   ],
   "metadata": {
    "collapsed": false
   },
   "id": "705e068510eaafc8"
  },
  {
   "cell_type": "markdown",
   "source": [
    "## Bar graphs for mortality rate within their respective category"
   ],
   "metadata": {
    "collapsed": false
   },
   "id": "dc8bb492af2519ef"
  },
  {
   "cell_type": "code",
   "outputs": [],
   "source": [
    "def plot_mortality_rates_corrected(columns, title):\n",
    "    mortality_rates = {}\n",
    "    for col in columns:\n",
    "        group_mean = merged_df.groupby(col)[death_variable].mean()\n",
    "        if len(group_mean) > 1:  # Ensure there are at least two groups (0 and 1 for the demographic variable)\n",
    "            mortality_rate = group_mean.loc[True] * 100  # Specifically use .loc[True] to avoid indexing issues\n",
    "        else:\n",
    "            mortality_rate = 0  # Default to 0 if there's no variation in the group\n",
    "        mortality_rates[col] = mortality_rate\n",
    "    \n",
    "    # Sorting the mortality rates for plotting\n",
    "    mortality_rates_sorted = {k: v for k, v in sorted(mortality_rates.items(), key=lambda item: item[1], reverse=True)}\n",
    "    \n",
    "    # Creating the plot\n",
    "    plt.figure(figsize=(9, 20))\n",
    "    sns.barplot(x=list(mortality_rates_sorted.values()), y=list(mortality_rates_sorted.keys()), color=\"salmon\")\n",
    "    plt.title(f'Mortality Rates by {title}')\n",
    "    plt.xlabel('Mortality Rate (%)')\n",
    "    plt.ylabel('Category')\n",
    "    plt.show()\n",
    "\n",
    "\n",
    "# Each bar represents the mortality rate (%) within the respective category.\n",
    "plot_mortality_rates_corrected(ethnicity_columns, 'Ethnicity') \n",
    "plot_mortality_rates_corrected(religion_columns, 'Religion')\n",
    "plot_mortality_rates_corrected(language_columns, 'Language')"
   ],
   "metadata": {
    "collapsed": false,
    "is_executing": true
   },
   "id": "97c75c44447cc68f",
   "execution_count": null
  },
  {
   "cell_type": "code",
   "outputs": [],
   "source": [
    "merged_df.head()"
   ],
   "metadata": {
    "collapsed": false,
    "is_executing": true
   },
   "id": "299876382e20abee",
   "execution_count": null
  },
  {
   "cell_type": "markdown",
   "source": [
    "# chi-square test \n",
    "For each categorical variable (e.g., ethnicity, religion, language), a contingency table is created comparing the counts of outcomes (in this case, mortality indicated by death_variable) across the categories of that variable. This table provides a summary of the observed frequencies of mortality (alive or deceased) within each group. `table = pd.crosstab(merged_df[col], merged_df[death_variable])`\n",
    "\n",
    "The chi-square test calculates a statistic that measures the difference between the observed frequencies in each category and the frequencies that would be expected if there was no association between the categorical variable and mortality. The formula for the chi-square statistic involves summing the squared difference between observed and expected frequencies, divided by the expected frequencies: $\\Chi ^2 = \\Sigma\\frac{(O-E)^2}{E}$\n",
    "\n",
    "\n",
    "## Interpreting it\n",
    "\n",
    "Chi-square statistic $(\\Chi ^2)$: A higher value indicates a greater difference between observed and expected frequencies, suggesting a stronger association between the categorical variable and mortality rates.\n",
    " \n",
    "A lower p-value (typically less than 0.05) is interpreted as evidence against the null hypothesis (which posits no association), indicating a statistically significant difference in mortality rates across the groups."
   ],
   "metadata": {
    "collapsed": false
   },
   "id": "efb7565d23d8a11"
  },
  {
   "cell_type": "code",
   "outputs": [],
   "source": [
    "# Function to perform chi-square tests for a list of columns\n",
    "def chi_square_test_for_columns(columns):\n",
    "    results = {}\n",
    "    for col in columns:\n",
    "        # Create a contingency table\n",
    "        table = pd.crosstab(merged_df[col], merged_df[death_variable])\n",
    "        # Perform the chi-square test\n",
    "        chi2, p, dof, expected = chi2_contingency(table)\n",
    "        # Store the results\n",
    "        results[col] = p\n",
    "    return results\n",
    "\n",
    "ethnicity_results = chi_square_test_for_columns(ethnicity_columns) \n",
    "religion_results = chi_square_test_for_columns(religion_columns) \n",
    "language_results = chi_square_test_for_columns(language_columns) \n",
    "\n",
    "ethnicity_results, religion_results, language_results"
   ],
   "metadata": {
    "collapsed": false,
    "is_executing": true
   },
   "id": "bd9514a0bb7653d2",
   "execution_count": null
  },
  {
   "cell_type": "code",
   "outputs": [],
   "source": [
    "# Combine the results into a single dictionary for easier plotting\n",
    "chi_square_results = {\n",
    "    **ethnicity_results,\n",
    "    **religion_results,\n",
    "    **language_results\n",
    "}\n",
    "\n",
    "# Transform the p-values using negative logarithm to emphasize differences\n",
    "# Add a small value to avoid taking log(0) which is undefined\n",
    "log_p_values = {k: -np.log10(v + 1e-100) for k, v in chi_square_results.items()}\n",
    "\n",
    "# Sorting results for better visualization\n",
    "sorted_categories = sorted(log_p_values.keys(), key=lambda x: log_p_values[x], reverse=True)\n",
    "\n",
    "# Plotting\n",
    "plt.figure(figsize=(10, 20))\n",
    "plt.barh(sorted_categories, [log_p_values[category] for category in sorted_categories], color='skyblue')\n",
    "plt.xlabel('-Log10(p-value)')\n",
    "plt.ylabel('Categories')\n",
    "plt.yticks(fontsize=7)\n",
    "\n",
    "plt.title('Chi-square Test Results (Negative Log10 of p-values)')\n",
    "plt.axvline(x=-np.log10(0.05), color='red', linestyle='--', label='p=0.05 Significance Level')\n",
    "plt.legend()\n",
    "plt.show()"
   ],
   "metadata": {
    "collapsed": false,
    "is_executing": true
   },
   "id": "74431c425fdf9cb1",
   "execution_count": null
  },
  {
   "cell_type": "code",
   "outputs": [],
   "source": [
    "# Function to filter and print categories with significant differences (p < 0.05)\n",
    "def print_significant_categories(result_dict, category_name):\n",
    "    significant_categories = {k: v for k, v in result_dict.items() if v < 0.05}\n",
    "    if significant_categories:\n",
    "        print(f\"Significant {category_name} categories:\")\n",
    "        for category, p_value in significant_categories.items():\n",
    "            print(f\"- {category}: p-value = {p_value}\")\n",
    "    else:\n",
    "        print(f\"No significant {category_name} categories found.\")\n",
    "\n",
    "# Print significant categories for ethnicity, religion, and language\n",
    "print_significant_categories(ethnicity_results, \"ethnicity\")\n",
    "print_significant_categories(religion_results, \"religion\")\n",
    "print_significant_categories(language_results, \"language\")"
   ],
   "metadata": {
    "collapsed": false,
    "is_executing": true
   },
   "id": "65e8d9616160d871",
   "execution_count": null
  },
  {
   "cell_type": "code",
   "outputs": [],
   "source": [
    "merged_df.columns.to_list()"
   ],
   "metadata": {
    "collapsed": false,
    "is_executing": true
   },
   "id": "17704068b1b6219f",
   "execution_count": null
  },
  {
   "cell_type": "markdown",
   "source": [],
   "metadata": {
    "collapsed": false
   },
   "id": "1da75d19be589b5a"
  },
  {
   "cell_type": "markdown",
   "source": [
    "# Logistic regression"
   ],
   "metadata": {
    "collapsed": false
   },
   "id": "bafac1b606ccfe99"
  },
  {
   "cell_type": "code",
   "outputs": [],
   "source": [
    "# Dropping non-numeric and irrelevant columns\n",
    "df_numeric = merged_df.drop(['SUBJECT_ID',\n",
    " 'ROW_ID',\n",
    " 'HADM_ID',\n",
    " 'ADMITTIME',\n",
    " 'DISCHTIME',\n",
    " 'DEATHTIME',\n",
    " 'ADMISSION_LOCATION',\n",
    " 'DISCHARGE_LOCATION',\n",
    " 'EDREGTIME',\n",
    " 'EDOUTTIME',\n",
    " 'DIAGNOSIS',\n",
    " 'HOSPITAL_EXPIRE_FLAG',\n",
    " 'HAS_CHARTEVENTS_DATA',\n",
    " 'DOB',\n",
    " 'AGE_AT_ADMIT',\n",
    " 'AGE_AT_DEATH',\n",
    " 'ADMISSION_TYPE_EMERGENCY',\n",
    " 'ADMISSION_TYPE_NEWBORN',\n",
    " 'ADMISSION_TYPE_URGENT',\n",
    " 'INSURANCE_Medicaid',\n",
    " 'INSURANCE_Medicare',\n",
    " 'INSURANCE_Private',\n",
    " 'INSURANCE_Self Pay',], axis=1)\n",
    "\n",
    "# Splitting the dataset into features (X) and target (y)\n",
    "X = df_numeric.drop(death_variable, axis=1)\n",
    "y = df_numeric[death_variable]\n",
    "\n",
    "# Splitting into training and testing sets\n",
    "X_train, X_test, y_train, y_test = train_test_split(X, y, test_size=0.2, random_state=42)\n",
    "\n",
    "# Initialize and train the logistic regression model\n",
    "model = LogisticRegression(max_iter=1000)\n",
    "model.fit(X_train, y_train)"
   ],
   "metadata": {
    "collapsed": false,
    "is_executing": true
   },
   "id": "5870ae6348c0dae7",
   "execution_count": null
  },
  {
   "cell_type": "code",
   "outputs": [],
   "source": [
    "# Predictions and evaluation\n",
    "predictions = model.predict(X_test)\n",
    "print(f\"Accuracy: {accuracy_score(y_test, predictions)}\")\n",
    "print(classification_report(y_test, predictions))\n",
    "\n",
    "# Coefficients\n",
    "# Transforming coefficients to odds ratios for interpretation\n",
    "odds_ratios = pd.DataFrame(data=np.exp(model.coef_[0]), index=X.columns, columns=['Odds Ratio'])\n",
    "print(odds_ratios)\n",
    "# odds_ratios.head().sort_values('Odds Ratio', ascending=False)"
   ],
   "metadata": {
    "collapsed": false,
    "is_executing": true
   },
   "id": "d424338709f95e78",
   "execution_count": null
  },
  {
   "cell_type": "markdown",
   "source": [
    "#### Accuracy Score\n",
    "Accuracy (0.69 or 69%): This is the proportion of all predictions (for both classes 0 and 1) that were correct. In your model, 69% of the predictions matched the actual values. \n",
    "\n",
    "#### Classification Report\n",
    "\n",
    "Precision: The ratio of true positive predictions to the total predicted positives. Precision for class 0 is 0.71, meaning that when the model predicts a patient did not expire, it is correct 71% of the time. For class 1, it's 0.60.\n",
    "\n",
    "Recall (Sensitivity): The ratio of true positive predictions to the actual positives in the data. For class 0, the recall is 0.90, indicating the model is very good at identifying the non-expire cases. For class 1, the recall is only 0.29, showing the model struggles to identify all true expire cases.\n",
    "\n",
    "F1-Score: The harmonic mean of precision and recall, giving a single score that balances the two. For class 0, it's 0.79, and for class 1, it's 0.39. \n",
    "\n",
    "Support: The actual number of occurrences of each class in the dataset. Class 0 (non-expire) had 6122 instances, and class 1 (expire) had 3182.\n",
    "\n",
    "#### Odds Ratios\n",
    "Odds ratios indicate the change in odds resulting from a one-unit increase in the predictor variable, holding all other variables constant. An odds ratio:\n",
    "\n",
    "1 indicates an increase in the odds of the outcome (in this case, mortality) for a one-unit increase in the predictor.\n",
    "\n",
    "< 1 indicates a decrease in the odds of the outcome for a one-unit increase in the predictor.\n",
    "\n",
    "= 1 suggests no effect on the odds.\n",
    "\n",
    "Examples:\n",
    "LANGUAGE_SH (Odds Ratio 1.848929): Patients with this language attribute have about 1.85 times the odds of the outcome (mortality) compared to patients without this attribute.\n",
    "\n",
    "ETHNICITY_WHITE - BRAZILIAN (Odds Ratio 0.629924): This suggests being categorized as white Brazilian decreases the odds of the outcome (mortality) by about 37% ([1 - 0.629924] * 100) compared to the reference category."
   ],
   "metadata": {
    "collapsed": false
   },
   "id": "6254a7f9a15334d0"
  },
  {
   "cell_type": "code",
   "outputs": [],
   "source": [
    "# Predicting probabilities\n",
    "y_prob = model.predict_proba(X_test)[:, 1]\n",
    "\n",
    "# Calculating the ROC-AUC score\n",
    "roc_auc = roc_auc_score(y_test, y_prob)\n",
    "print(f\"ROC-AUC Score: {roc_auc}\")\n",
    "\n",
    "# Calculating ROC curve\n",
    "fpr, tpr, thresholds = roc_curve(y_test, y_prob)\n",
    "\n",
    "# Plotting ROC curve\n",
    "plt.figure(figsize=(8, 6))\n",
    "plt.plot(fpr, tpr, label='Logistic Regression (area = %0.2f)' % roc_auc)\n",
    "plt.plot([0, 1], [0, 1], 'k--')  # Dashed diagonal\n",
    "plt.xlim([0.0, 1.0])\n",
    "plt.ylim([0.0, 1.05])\n",
    "plt.xlabel('False Positive Rate')\n",
    "plt.ylabel('True Positive Rate')\n",
    "plt.title('Receiver Operating Characteristic (ROC) Curve')\n",
    "plt.legend(loc='lower right')\n",
    "plt.show()"
   ],
   "metadata": {
    "collapsed": false,
    "is_executing": true
   },
   "id": "a9b37d97231283a0",
   "execution_count": null
  },
  {
   "cell_type": "markdown",
   "source": [
    "These interpretations help show which variables are most strongly associated with the outcome, and in what direction. However, it's important to remember that association does not imply causation, and these relationships can be influenced by the presence of other variables."
   ],
   "metadata": {
    "collapsed": false
   },
   "id": "3b42082908830ba4"
  },
  {
   "cell_type": "code",
   "outputs": [],
   "source": [],
   "metadata": {
    "collapsed": false,
    "is_executing": true
   },
   "id": "2db2068e845a2755",
   "execution_count": null
  }
 ],
 "metadata": {
  "kernelspec": {
   "display_name": "Python 3",
   "language": "python",
   "name": "python3"
  },
  "language_info": {
   "codemirror_mode": {
    "name": "ipython",
    "version": 2
   },
   "file_extension": ".py",
   "mimetype": "text/x-python",
   "name": "python",
   "nbconvert_exporter": "python",
   "pygments_lexer": "ipython2",
   "version": "2.7.6"
  }
 },
 "nbformat": 4,
 "nbformat_minor": 5
}
