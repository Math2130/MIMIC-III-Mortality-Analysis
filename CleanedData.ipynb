{
 "cells": [
  {
   "cell_type": "code",
   "execution_count": 1,
   "id": "516ed72d",
   "metadata": {
    "ExecuteTime": {
     "end_time": "2024-03-28T16:01:25.194061Z",
     "start_time": "2024-03-28T16:01:21.778707Z"
    }
   },
   "outputs": [],
   "source": [
    "import pandas as pd\n",
    "from datetime import datetime\n",
    "import re"
   ]
  },
  {
   "cell_type": "markdown",
   "id": "4b0fa34b",
   "metadata": {},
   "source": [
    "Converting date columns to datetime format"
   ]
  },
  {
   "cell_type": "code",
   "execution_count": 4,
   "id": "9d8a026e",
   "metadata": {
    "ExecuteTime": {
     "end_time": "2024-03-28T16:01:52.834546Z",
     "start_time": "2024-03-28T16:01:52.541036Z"
    }
   },
   "outputs": [],
   "source": [
    "def calculate_age(dob, event_time):\n",
    "    age = event_time.year - dob.year - ((event_time.month, event_time.day) < (dob.month, dob.day))\n",
    "    return age\n",
    "\n",
    "def handle_special_age_encoding(age):\n",
    "    if age > 300:  # Assuming that ages above 300 indicate ages above 89\n",
    "        return 90\n",
    "    else:\n",
    "        return age\n",
    "\n",
    "admissions_df = pd.read_csv('mimic-iii-clinical-database-1.4/ADMISSIONS.csv.gz')\n",
    "patients_df = pd.read_csv('mimic-iii-clinical-database-1.4/PATIENTS.csv.gz')\n",
    "\n",
    "admissions_df['ADMITTIME'] = pd.to_datetime(admissions_df['ADMITTIME'])\n",
    "admissions_df['DISCHTIME'] = pd.to_datetime(admissions_df['DISCHTIME'])\n",
    "admissions_df['DEATHTIME'] = pd.to_datetime(admissions_df['DEATHTIME'])\n",
    "\n",
    "patients_df['DOB'] = pd.to_datetime(patients_df['DOB'])\n",
    "patients_df['DOD'] = pd.to_datetime(patients_df['DOD'])"
   ]
  },
  {
   "cell_type": "markdown",
   "id": "0dfe6f79",
   "metadata": {},
   "source": [
    "Merging 'ADMISSIONS' with 'PATIENTS' to associate DOB with each admission"
   ]
  },
  {
   "cell_type": "code",
   "execution_count": 5,
   "id": "c94b0c48",
   "metadata": {
    "ExecuteTime": {
     "end_time": "2024-03-28T16:01:56.696824Z",
     "start_time": "2024-03-28T16:01:56.678740Z"
    }
   },
   "outputs": [],
   "source": [
    "admissions_with_dob = admissions_df.merge(patients_df[['SUBJECT_ID', 'DOB']], on='SUBJECT_ID', how='left')"
   ]
  },
  {
   "cell_type": "markdown",
   "id": "c08103f6",
   "metadata": {},
   "source": [
    "Calculating age accordingly"
   ]
  },
  {
   "cell_type": "code",
   "execution_count": 6,
   "id": "c98db2c3",
   "metadata": {
    "ExecuteTime": {
     "end_time": "2024-03-28T16:02:47.195936Z",
     "start_time": "2024-03-28T16:02:43.680744Z"
    }
   },
   "outputs": [],
   "source": [
    "admissions_with_dob['AGE_AT_ADMIT'] = admissions_with_dob.apply(lambda x: calculate_age(x['DOB'], x['ADMITTIME']), axis=1)\n",
    "\n",
    "#special age encoding for patients above 89 years old\n",
    "admissions_with_dob['AGE_AT_ADMIT'] = admissions_with_dob['AGE_AT_ADMIT'].apply(handle_special_age_encoding)\n",
    "\n",
    "admissions_with_dob['AGE_AT_DEATH'] = admissions_with_dob.apply(lambda x: calculate_age(x['DOB'], x['DEATHTIME']) if pd.notnull(x['DEATHTIME']) else None, axis=1)\n",
    "admissions_with_dob['AGE_AT_DEATH'] = admissions_with_dob['AGE_AT_DEATH'].apply(handle_special_age_encoding)\n",
    "\n",
    "admissions_with_dob['AGE_AT_ADMIT'] = admissions_with_dob['AGE_AT_ADMIT'].clip(lower=0)\n",
    "\n",
    "admissions_encoded = pd.get_dummies(admissions_with_dob, columns=['ADMISSION_TYPE', 'INSURANCE', 'LANGUAGE', 'RELIGION', 'MARITAL_STATUS', 'ETHNICITY'], drop_first=True)\n",
    "\n",
    "Q1 = admissions_encoded['AGE_AT_ADMIT'].quantile(0.25)\n",
    "Q3 = admissions_encoded['AGE_AT_ADMIT'].quantile(0.75)\n",
    "IQR = Q3 - Q1\n",
    "lower_bound = Q1 - 1.5 * IQR\n",
    "upper_bound = Q3 + 1.5 * IQR\n",
    "outliers = admissions_encoded[(admissions_encoded['AGE_AT_ADMIT'] < lower_bound) | (admissions_encoded['AGE_AT_ADMIT'] > upper_bound)]\n",
    "\n",
    "outlier_count = outliers.shape[0]\n",
    "\n",
    "admissions_encoded.to_csv('./cleaned_ADMISSIONS.csv', index=False)\n",
    "patients_df.to_csv('./cleaned_PATIENTS.csv', index=False)"
   ]
  },
  {
   "cell_type": "markdown",
   "id": "80fc49be",
   "metadata": {},
   "source": [
    "cleaning noteevents"
   ]
  },
  {
   "cell_type": "code",
   "execution_count": null,
   "id": "ee164514",
   "metadata": {
    "ExecuteTime": {
     "start_time": "2024-03-28T16:05:11.496884Z"
    }
   },
   "outputs": [],
   "source": [
    "def clean_text(note):\n",
    "    # I removed identified PHI markers (e.g., \"[**...**]\")\n",
    "    note = re.sub(r'\\[\\*\\*.*?\\*\\*\\]', '', note)\n",
    "    \n",
    "    note = re.sub(r'\\s+', ' ', note).strip()\n",
    "    \n",
    "    note = note.lower()\n",
    "    \n",
    "    return note\n",
    "\n",
    "noteevents_df = pd.read_csv('mimic-iii-clinical-database-1.4/NOTEEVENTS.csv.gz')\n",
    "\n",
    "noteevents_df['CLEANED_TEXT'] = noteevents_df['TEXT'].apply(clean_text)\n",
    "\n",
    "noteevents_df.to_csv('mimic-iii-clinical-database-1.4/cleaned_NOTEEVENTS.csv', index=False)"
   ]
  },
  {
   "cell_type": "markdown",
   "id": "1bf5c394",
   "metadata": {},
   "source": [
    "cleaning prescriptions"
   ]
  },
  {
   "cell_type": "code",
   "execution_count": null,
   "id": "f572c907",
   "metadata": {
    "ExecuteTime": {
     "end_time": "2024-03-28T16:05:11.500578Z",
     "start_time": "2024-03-28T16:05:11.499301Z"
    }
   },
   "outputs": [],
   "source": [
    "prescriptions_df = pd.read_csv('mimic-iii-clinical-database-1.4/PRESCRIPTIONS.csv.gz')\n",
    "\n",
    "prescriptions_df['DRUG'] = prescriptions_df['DRUG'].str.strip().str.lower()\n",
    "\n",
    "prescriptions_df['DOSE_VAL_RX'] = pd.to_numeric(prescriptions_df['DOSE_VAL_RX'], errors='coerce')\n",
    "\n",
    "prescriptions_df = prescriptions_df.dropna(subset=['DOSE_VAL_RX'])\n",
    "\n",
    "prescriptions_df['ROUTE'] = prescriptions_df['ROUTE'].str.strip().str.lower()\n",
    "\n",
    "prescriptions_df['STARTDATE'] = pd.to_datetime(prescriptions_df['STARTDATE'], errors='coerce')\n",
    "prescriptions_df['ENDDATE'] = pd.to_datetime(prescriptions_df['ENDDATE'], errors='coerce')\n",
    "\n",
    "prescriptions_df = prescriptions_df[(prescriptions_df['STARTDATE'].dt.year > 1900) & (prescriptions_df['STARTDATE'].dt.year < datetime.now().year)]\n",
    "prescriptions_df = prescriptions_df[(prescriptions_df['ENDDATE'].dt.year > 1900) & (prescriptions_df['ENDDATE'].dt.year < datetime.now().year)]\n",
    "\n",
    "prescriptions_df['ROUTE'].fillna('unknown', inplace=True)\n",
    "\n",
    "prescriptions_df.to_csv('./cleaned_PRESCRIPTIONS.csv', index=False)"
   ]
  },
  {
   "cell_type": "markdown",
   "id": "48a5e60f",
   "metadata": {},
   "source": [
    "cleaning diagnoses_icd"
   ]
  },
  {
   "cell_type": "code",
   "execution_count": 8,
   "id": "b0e7ef32",
   "metadata": {
    "ExecuteTime": {
     "end_time": "2024-03-28T16:05:15.069499Z",
     "start_time": "2024-03-28T16:05:14.984576Z"
    }
   },
   "outputs": [],
   "source": [
    "diagnoses_icd_df = pd.read_csv('mimic-iii-clinical-database-1.4/D_ICD_DIAGNOSES.csv.gz')\n",
    "\n",
    "diagnoses_icd_df['LONG_TITLE'] = diagnoses_icd_df['LONG_TITLE'].str.strip().str.lower()\n",
    "diagnoses_icd_df['SHORT_TITLE'] = diagnoses_icd_df['SHORT_TITLE'].str.strip().str.lower()\n",
    "\n",
    "diagnoses_icd_df.dropna(subset=['LONG_TITLE'], inplace=True)\n",
    "\n",
    "diagnoses_icd_df.drop_duplicates(inplace=True)\n",
    "\n",
    "diagnoses_icd_df.to_csv('./cleaned_D_ICD_DIAGNOSES.csv', index=False)"
   ]
  },
  {
   "cell_type": "markdown",
   "id": "becf2d45",
   "metadata": {},
   "source": [
    "cleaning icu_stays"
   ]
  },
  {
   "cell_type": "code",
   "execution_count": 10,
   "id": "ea6d9bd2",
   "metadata": {
    "ExecuteTime": {
     "end_time": "2024-03-28T16:05:34.864550Z",
     "start_time": "2024-03-28T16:05:34.286210Z"
    }
   },
   "outputs": [],
   "source": [
    "icustays_df = pd.read_csv('mimic-iii-clinical-database-1.4/ICUSTAYS.csv.gz')\n",
    "#converting to datetime format\n",
    "icustays_df['INTIME'] = pd.to_datetime(icustays_df['INTIME'])\n",
    "icustays_df['OUTTIME'] = pd.to_datetime(icustays_df['OUTTIME'])\n",
    "\n",
    "icustays_df['LOS'] = (icustays_df['OUTTIME'] - icustays_df['INTIME']).dt.total_seconds() / (24 * 60 * 60)\n",
    "\n",
    "invalid_stays = icustays_df[icustays_df['INTIME'] > icustays_df['OUTTIME']]\n",
    "\n",
    "icustays_df = icustays_df.drop(invalid_stays.index)\n",
    "\n",
    "icustays_df.dropna(subset=['INTIME', 'OUTTIME'], inplace=True)\n",
    "\n",
    "duplicates = icustays_df[icustays_df.duplicated(subset=['ICUSTAY_ID'], keep=False)]\n",
    "\n",
    "icustays_df.to_csv('./cleaned_ICUSTAYS.csv', index=False)"
   ]
  }
 ],
 "metadata": {
  "kernelspec": {
   "display_name": "Python 3 (ipykernel)",
   "language": "python",
   "name": "python3"
  },
  "language_info": {
   "codemirror_mode": {
    "name": "ipython",
    "version": 3
   },
   "file_extension": ".py",
   "mimetype": "text/x-python",
   "name": "python",
   "nbconvert_exporter": "python",
   "pygments_lexer": "ipython3",
   "version": "3.9.13"
  }
 },
 "nbformat": 4,
 "nbformat_minor": 5
}
